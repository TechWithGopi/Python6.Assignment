{
 "cells": [
  {
   "cell_type": "code",
   "execution_count": 1,
   "metadata": {},
   "outputs": [],
   "source": [
    "class multipleFunctions():\n",
    "    def odd_even():\n",
    "        num = int(input(\"Enter the number: \"))\n",
    "        if num % 2 == 1:\n",
    "            print(\"Odd Number\")\n",
    "            message = \"Odd Number\"\n",
    "        else:\n",
    "            print(\"Even Number\")\n",
    "            message = \"Even Number\"\n",
    "        return message\n",
    "\n",
    "    \n",
    "    def BMI():\n",
    "        BMI = int(input(\"Enter the BMI Index:\"))\n",
    "        if BMI  < 18.5:\n",
    "            print(\"Underweight\")\n",
    "            message = \"Underweight\"\n",
    "        elif BMI< 25.9:\n",
    "            print(\"Normal\")\n",
    "            message = (\"Normal\") \n",
    "        elif BMI < 29.9:\n",
    "            print(\"Overweight\")\n",
    "            message = \"Overweight\"\n",
    "        else:\n",
    "            print(\"Very Overweight\")\n",
    "            message = \"Very Overweight\"\n",
    "        return message"
   ]
  },
  {
   "cell_type": "code",
   "execution_count": 2,
   "metadata": {},
   "outputs": [
    {
     "name": "stdout",
     "output_type": "stream",
     "text": [
      "Enter the BMI Index:45\n",
      "Very Overweight\n"
     ]
    },
    {
     "data": {
      "text/plain": [
       "'Very Overweight'"
      ]
     },
     "execution_count": 2,
     "metadata": {},
     "output_type": "execute_result"
    }
   ],
   "source": [
    "multipleFunctions.BMI()"
   ]
  },
  {
   "cell_type": "code",
   "execution_count": null,
   "metadata": {},
   "outputs": [],
   "source": []
  }
 ],
 "metadata": {
  "kernelspec": {
   "display_name": "Python 3",
   "language": "python",
   "name": "python3"
  },
  "language_info": {
   "codemirror_mode": {
    "name": "ipython",
    "version": 3
   },
   "file_extension": ".py",
   "mimetype": "text/x-python",
   "name": "python",
   "nbconvert_exporter": "python",
   "pygments_lexer": "ipython3",
   "version": "3.7.4"
  }
 },
 "nbformat": 4,
 "nbformat_minor": 2
}
