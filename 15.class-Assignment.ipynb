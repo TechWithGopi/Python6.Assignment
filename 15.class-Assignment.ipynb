{
 "cells": [
  {
   "cell_type": "code",
   "execution_count": 2,
   "metadata": {},
   "outputs": [],
   "source": [
    "lists = [1,2,3,4,5,6]\n",
    "\n",
    "class SubfieldsInAI():\n",
    "    \n",
    "    def TechName():\n",
    "        for names in lists:\n",
    "            if names == 1 :\n",
    "                print(\"Machine Learning\")\n",
    "\n",
    "            elif names == 2 :\n",
    "                print(\"Neural Networks\")\n",
    "\n",
    "            elif names == 3 :\n",
    "                print(\"Vision\")\n",
    "\n",
    "            elif names == 4 :\n",
    "                print(\"Vision\")\n",
    "\n",
    "            elif names == 5 :\n",
    "                print(\"Speech Processing\")\n",
    "\n",
    "            elif names == 6 :\n",
    "                print(\"Natural Language Processing\")"
   ]
  },
  {
   "cell_type": "code",
   "execution_count": 3,
   "metadata": {},
   "outputs": [
    {
     "name": "stdout",
     "output_type": "stream",
     "text": [
      "Machine Learning\n",
      "Neural Networks\n",
      "Vision\n",
      "Vision\n",
      "Speech Processing\n",
      "Natural Language Processing\n"
     ]
    }
   ],
   "source": [
    "SubfieldsInAI.TechName()"
   ]
  },
  {
   "cell_type": "code",
   "execution_count": 6,
   "metadata": {},
   "outputs": [],
   "source": [
    "class OddEven():\n",
    "    def OddEven():\n",
    "        number = int(input(\"Enter a number: \"))\n",
    "        if number % 2 == 0:\n",
    "            print(number ,\"is Even number\")\n",
    "            message = number,\"is Even number\"\n",
    "        else:\n",
    "            print(\"Not Even number\")\n",
    "            message = \"Not Even number\"\n",
    "        return message"
   ]
  },
  {
   "cell_type": "code",
   "execution_count": 7,
   "metadata": {},
   "outputs": [
    {
     "name": "stdout",
     "output_type": "stream",
     "text": [
      "Enter a number: 52452\n",
      "52452 is Even number\n"
     ]
    },
    {
     "data": {
      "text/plain": [
       "(52452, 'is Even number')"
      ]
     },
     "execution_count": 7,
     "metadata": {},
     "output_type": "execute_result"
    }
   ],
   "source": [
    "OddEven.OddEven()"
   ]
  },
  {
   "cell_type": "code",
   "execution_count": 10,
   "metadata": {},
   "outputs": [],
   "source": [
    "class ElegiblityForMarriage():\n",
    "    def age():\n",
    "        name = input(\"Your Gender: \")\n",
    "        age = int(input(\"Your Age: \"))\n",
    "        if age > 21:\n",
    "            print(\"ELIGIBLE\")\n",
    "            message = \"ELIGIBLE\"\n",
    "        else:\n",
    "            print(\"NOT ELIGIBLE\")\n",
    "            message = \"NOT ELIGIBLE\"\n",
    "\n",
    "        return message"
   ]
  },
  {
   "cell_type": "code",
   "execution_count": 11,
   "metadata": {},
   "outputs": [
    {
     "name": "stdout",
     "output_type": "stream",
     "text": [
      "Your Gender: Male\n",
      "Your Age: 20\n",
      "NOT ELIGIBLE\n"
     ]
    },
    {
     "data": {
      "text/plain": [
       "'NOT ELIGIBLE'"
      ]
     },
     "execution_count": 11,
     "metadata": {},
     "output_type": "execute_result"
    }
   ],
   "source": [
    "ElegiblityForMarriage.age()"
   ]
  },
  {
   "cell_type": "code",
   "execution_count": 12,
   "metadata": {},
   "outputs": [],
   "source": [
    "Subject1= 98\n",
    "Subject2= 87\n",
    "Subject3= 95\n",
    "Subject4= 95\n",
    "Subject5= 93\n",
    "\n",
    "\n",
    "class FindPercentage():\n",
    "    def percentage(Subject1, Subject2, Subject3, Subject4, Subject5):\n",
    "        total = Subject1 + Subject2 + Subject3 + Subject4 + Subject5\n",
    "        average = (total / 500) * 100\n",
    "        print(\"Subject1 =\", Subject1)\n",
    "        print(\"Subject2 =\", Subject2)\n",
    "        print(\"Subject3 =\", Subject3)\n",
    "        print(\"Subject4 =\", Subject4)\n",
    "        print(\"Subject5 =\", Subject5)\n",
    "        print(\"Total:\", total)\n",
    "        print(\"Percentage:\", average)"
   ]
  },
  {
   "cell_type": "code",
   "execution_count": 16,
   "metadata": {},
   "outputs": [
    {
     "name": "stdout",
     "output_type": "stream",
     "text": [
      "Subject1 = 98\n",
      "Subject2 = 87\n",
      "Subject3 = 95\n",
      "Subject4 = 95\n",
      "Subject5 = 93\n",
      "Total: 468\n",
      "Percentage: 93.60000000000001\n"
     ]
    }
   ],
   "source": [
    "FindPercentage.percentage(98, 87, 95, 95, 93)"
   ]
  },
  {
   "cell_type": "code",
   "execution_count": 20,
   "metadata": {},
   "outputs": [],
   "source": [
    "Height_first = 32\n",
    "Breadth_first = 34\n",
    "\n",
    "\n",
    "class triangle():\n",
    "    def triangle(Height_first, Breadth_first):\n",
    "        area_of_triangle = (Height_first * Breadth_first) / 2\n",
    "        print(\"Height:\", Height_first)\n",
    "        print(\"Breadth:\", Breadth_first)\n",
    "        print(\"Area of triangle: \", area_of_triangle )\n",
    "        \n",
    "        "
   ]
  },
  {
   "cell_type": "code",
   "execution_count": 22,
   "metadata": {},
   "outputs": [
    {
     "name": "stdout",
     "output_type": "stream",
     "text": [
      "Height: 32\n",
      "Breadth: 34\n",
      "Area of triangle:  544.0\n"
     ]
    }
   ],
   "source": [
    "triangle.triangle(32, 34)"
   ]
  },
  {
   "cell_type": "code",
   "execution_count": 25,
   "metadata": {},
   "outputs": [],
   "source": [
    "Height1=2\n",
    "Height2=4\n",
    "Breadth=4\n",
    "\n",
    "class triangle1():\n",
    "    def triangle(Height1,Height2, Breadth):\n",
    "        perimeter_of_triangle = Height1+Height2+Breadth\n",
    "        print(\"Height1:\",Height1)\n",
    "        print(\"Height2:\",Height2)\n",
    "        print(\"Breadth:\", Breadth)\n",
    "        print(\"Perimeter of triangle: \", perimeter_of_triangle )"
   ]
  },
  {
   "cell_type": "code",
   "execution_count": 27,
   "metadata": {},
   "outputs": [
    {
     "name": "stdout",
     "output_type": "stream",
     "text": [
      "Height1: 2\n",
      "Height2: 4\n",
      "Breadth: 4\n",
      "Perimeter of triangle:  10\n"
     ]
    }
   ],
   "source": [
    "triangle1.triangle(2,4, 4)"
   ]
  },
  {
   "cell_type": "code",
   "execution_count": null,
   "metadata": {},
   "outputs": [],
   "source": []
  }
 ],
 "metadata": {
  "kernelspec": {
   "display_name": "Python 3",
   "language": "python",
   "name": "python3"
  },
  "language_info": {
   "codemirror_mode": {
    "name": "ipython",
    "version": 3
   },
   "file_extension": ".py",
   "mimetype": "text/x-python",
   "name": "python",
   "nbconvert_exporter": "python",
   "pygments_lexer": "ipython3",
   "version": "3.7.4"
  }
 },
 "nbformat": 4,
 "nbformat_minor": 2
}
