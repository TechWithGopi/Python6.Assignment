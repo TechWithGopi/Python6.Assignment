{
 "cells": [
  {
   "cell_type": "code",
   "execution_count": 1,
   "metadata": {},
   "outputs": [],
   "source": [
    "def age():\n",
    "    name = input(\"Your Gender: \")\n",
    "    age = int(input(\"Your Age: \"))\n",
    "    if age > 18:\n",
    "        print(\"ELIGIBLE\")\n",
    "        message = \"ELIGIBLE\"\n",
    "    else:\n",
    "        print(\"NOT ELIGIBLE\")\n",
    "        message = \"NOT ELIGIBLE\"\n",
    "        \n",
    "    \n",
    "        \n",
    "    return message"
   ]
  },
  {
   "cell_type": "code",
   "execution_count": 2,
   "metadata": {},
   "outputs": [
    {
     "name": "stdout",
     "output_type": "stream",
     "text": [
      "Your Gender: Male\n",
      "Your Age: 18\n",
      "NOT ELIGIBLE\n"
     ]
    },
    {
     "data": {
      "text/plain": [
       "'NOT ELIGIBLE'"
      ]
     },
     "execution_count": 2,
     "metadata": {},
     "output_type": "execute_result"
    }
   ],
   "source": [
    "age()"
   ]
  },
  {
   "cell_type": "code",
   "execution_count": 3,
   "metadata": {},
   "outputs": [
    {
     "name": "stdout",
     "output_type": "stream",
     "text": [
      "Your Gender: Male\n",
      "Your Age: 18\n",
      "NOT ELIGIBLE\n"
     ]
    }
   ],
   "source": [
    "message = age()"
   ]
  },
  {
   "cell_type": "code",
   "execution_count": 4,
   "metadata": {},
   "outputs": [],
   "source": [
    "def OddEven():\n",
    "    number = int(input(\"Enter a number: \"))\n",
    "    if number % 2 == 0:\n",
    "        print(\"4 is Even number\")\n",
    "        message = \"4 is Even number\"\n",
    "    else:\n",
    "        print(\"Not Even number\")\n",
    "        message = \"Not Even number\"\n",
    "    return message"
   ]
  },
  {
   "cell_type": "code",
   "execution_count": 5,
   "metadata": {},
   "outputs": [
    {
     "name": "stdout",
     "output_type": "stream",
     "text": [
      "Enter a number: 4\n",
      "4 is Even number\n"
     ]
    },
    {
     "data": {
      "text/plain": [
       "'4 is Even number'"
      ]
     },
     "execution_count": 5,
     "metadata": {},
     "output_type": "execute_result"
    }
   ],
   "source": [
    "OddEven()"
   ]
  },
  {
   "cell_type": "code",
   "execution_count": 12,
   "metadata": {},
   "outputs": [
    {
     "name": "stdout",
     "output_type": "stream",
     "text": [
      "Enter a number: 4\n",
      "4 is Even number\n"
     ]
    }
   ],
   "source": [
    "message = OddEven()"
   ]
  },
  {
   "cell_type": "code",
   "execution_count": 23,
   "metadata": {},
   "outputs": [],
   "source": [
    "lists = [1,2,3,4,5,6]\n"
   ]
  },
  {
   "cell_type": "code",
   "execution_count": 35,
   "metadata": {},
   "outputs": [],
   "source": [
    "def TechName():\n",
    "    for names in lists:\n",
    "        if names == 1 :\n",
    "            print(\"Machine Learning\")\n",
    "            \n",
    "        elif names == 2 :\n",
    "            print(\"Neural Networks\")\n",
    "            \n",
    "        elif names == 3 :\n",
    "            print(\"Vision\")\n",
    "            \n",
    "        elif names == 4 :\n",
    "            print(\"Vision\")\n",
    "           \n",
    "        elif names == 5 :\n",
    "            print(\"Speech Processing\")\n",
    "            \n",
    "        elif names == 6 :\n",
    "            print(\"Natural Language Processing\")\n",
    "           \n",
    "            \n",
    "      "
   ]
  },
  {
   "cell_type": "code",
   "execution_count": 36,
   "metadata": {},
   "outputs": [
    {
     "name": "stdout",
     "output_type": "stream",
     "text": [
      "Machine Learning\n",
      "Neural Networks\n",
      "Vision\n",
      "Vision\n",
      "Speech Processing\n",
      "Natural Language Processing\n"
     ]
    }
   ],
   "source": [
    "TechName()"
   ]
  },
  {
   "cell_type": "code",
   "execution_count": 46,
   "metadata": {},
   "outputs": [],
   "source": [
    "Subject1= 23\n",
    "Subject2= 45\n",
    "Subject3= 34\n",
    "Subject4= 23\n",
    "Subject5= 23"
   ]
  },
  {
   "cell_type": "code",
   "execution_count": 51,
   "metadata": {},
   "outputs": [],
   "source": [
    "def percentage(Subject1, Subject2, Subject3, Subject4, Subject5):\n",
    "    total = Subject1 + Subject2 + Subject3 + Subject4 + Subject5\n",
    "    average = (total / 500) * 100\n",
    "    print(\"Subject1 =\", Subject1)\n",
    "    print(\"Subject2 =\", Subject2)\n",
    "    print(\"Subject3 =\", Subject3)\n",
    "    print(\"Subject4 =\", Subject4)\n",
    "    print(\"Subject5 =\", Subject5)\n",
    "    print(\"Total:\", total)\n",
    "    print(\"Percentage:\", average)\n",
    "    \n",
    "    "
   ]
  },
  {
   "cell_type": "code",
   "execution_count": 52,
   "metadata": {},
   "outputs": [
    {
     "name": "stdout",
     "output_type": "stream",
     "text": [
      "Subject1 = 23\n",
      "Subject2 = 45\n",
      "Subject3 = 34\n",
      "Subject4 = 23\n",
      "Subject5 = 23\n",
      "Total: 148\n",
      "Percentage: 29.599999999999998\n"
     ]
    }
   ],
   "source": [
    "percentage(Subject1, Subject2, Subject3, Subject4, Subject5)"
   ]
  },
  {
   "cell_type": "code",
   "execution_count": 92,
   "metadata": {},
   "outputs": [],
   "source": [
    "Height_first = 3\n",
    "Breadth_first = 4\n"
   ]
  },
  {
   "cell_type": "code",
   "execution_count": 93,
   "metadata": {},
   "outputs": [],
   "source": [
    "def triangle(Height_first, Breadth_first):\n",
    "    area_of_triangle = (Height_first * Breadth_first) / 2\n",
    "    print(\"Height:\", Height_first)\n",
    "    print(\"Breadth:\", Breadth_first)\n",
    "    print(\"Area of triangle: \", area_of_triangle )"
   ]
  },
  {
   "cell_type": "code",
   "execution_count": 95,
   "metadata": {},
   "outputs": [
    {
     "name": "stdout",
     "output_type": "stream",
     "text": [
      "Height: 3\n",
      "Breadth: 4\n",
      "Area of triangle:  6.0\n"
     ]
    }
   ],
   "source": [
    "triangle(Height_first, Breadth_first)"
   ]
  },
  {
   "cell_type": "code",
   "execution_count": null,
   "metadata": {},
   "outputs": [],
   "source": [
    "Height1=3\n",
    "Height2=4\n",
    "Breadth=45"
   ]
  },
  {
   "cell_type": "code",
   "execution_count": 96,
   "metadata": {},
   "outputs": [],
   "source": [
    "def triangle(Height1,Height2, Breadth):\n",
    "    perimeter_of_triangle = Height1+Height2+Breadth\n",
    "    print(\"Height1:\",Height1)\n",
    "    print(\"Height2:\",Height2)\n",
    "    print(\"Breadth:\", Breadth)\n",
    "    print(\"Perimeter of triangle: \", perimeter_of_triangle )"
   ]
  },
  {
   "cell_type": "code",
   "execution_count": 97,
   "metadata": {},
   "outputs": [
    {
     "name": "stdout",
     "output_type": "stream",
     "text": [
      "Height1: 3\n",
      "Height2: 4\n",
      "Breadth: 45\n",
      "Perimeter of triangle:  52\n"
     ]
    }
   ],
   "source": [
    "triangle(Height1,Height2, Breadth)"
   ]
  },
  {
   "cell_type": "code",
   "execution_count": null,
   "metadata": {},
   "outputs": [],
   "source": []
  }
 ],
 "metadata": {
  "kernelspec": {
   "display_name": "Python 3",
   "language": "python",
   "name": "python3"
  },
  "language_info": {
   "codemirror_mode": {
    "name": "ipython",
    "version": 3
   },
   "file_extension": ".py",
   "mimetype": "text/x-python",
   "name": "python",
   "nbconvert_exporter": "python",
   "pygments_lexer": "ipython3",
   "version": "3.7.4"
  }
 },
 "nbformat": 4,
 "nbformat_minor": 2
}
