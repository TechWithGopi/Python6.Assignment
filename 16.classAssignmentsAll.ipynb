{
 "cells": [
  {
   "cell_type": "code",
   "execution_count": 15,
   "metadata": {},
   "outputs": [],
   "source": [
    "class AllSnippets():\n",
    "    \n",
    "    \n",
    "    lists = [1,2,3,4,5,6]\n",
    "\n",
    "\n",
    "\n",
    "    def TechName():\n",
    "        \n",
    "        \n",
    "        for names in lists:\n",
    "            \n",
    "            if names == 1 :\n",
    "                print(\"Machine Learning\")\n",
    "\n",
    "            elif names == 2 :\n",
    "                print(\"Neural Networks\")\n",
    "\n",
    "            elif names == 3 :\n",
    "                print(\"Vision\")\n",
    "\n",
    "            elif names == 4 :\n",
    "                print(\"Vision\")\n",
    "\n",
    "            elif names == 5 :\n",
    "                print(\"Speech Processing\")\n",
    "\n",
    "            elif names == 6 :\n",
    "                print(\"Natural Language Processing\")\n",
    "                \n",
    "                \n",
    "                \n",
    "                \n",
    "    def OddEven():\n",
    "        \n",
    "        number = int(input(\"Enter a number: \"))\n",
    "        if number % 2 == 0:\n",
    "            print(number ,\"is Even number\")\n",
    "            message = number,\"is Even number\"\n",
    "        else:\n",
    "            print(\"Not Even number\")\n",
    "            message = \"Not Even number\"\n",
    "        return message\n",
    "    \n",
    "    \n",
    "    def age():\n",
    "        \n",
    "        name = input(\"Your Gender: \")\n",
    "        age = int(input(\"Your Age: \"))\n",
    "        if age > 21:\n",
    "            print(\"ELIGIBLE\")\n",
    "            message = \"ELIGIBLE\"\n",
    "        else:\n",
    "            print(\"NOT ELIGIBLE\")\n",
    "            message = \"NOT ELIGIBLE\"\n",
    "\n",
    "        return message\n",
    "    \n",
    "\n",
    "\n",
    "    def percentage(Subject1, Subject2, Subject3, Subject4, Subject5):\n",
    "        total = Subject1 + Subject2 + Subject3 + Subject4 + Subject5\n",
    "        average = (total / 500) * 100\n",
    "        print(\"Subject1 =\", Subject1)\n",
    "        print(\"Subject2 =\", Subject2)\n",
    "        print(\"Subject3 =\", Subject3)\n",
    "        print(\"Subject4 =\", Subject4)\n",
    "        print(\"Subject5 =\", Subject5)\n",
    "        print(\"Total:\", total)\n",
    "        print(\"Percentage:\", average)\n",
    "           \n",
    "        Subject1= 98\n",
    "        Subject2= 87\n",
    "        Subject3= 95\n",
    "        Subject4= 95\n",
    "        Subject5= 93\n",
    "        \n",
    "    def triangle1(Height_first, Breadth_first):\n",
    "    \n",
    "        area_of_triangle = (Height_first * Breadth_first) / 2\n",
    "        print(\"Height:\", Height_first)\n",
    "        print(\"Breadth:\", Breadth_first)\n",
    "        print(\"Area of triangle: \", area_of_triangle )\n",
    "        \n",
    "        \n",
    "        Height_first = 32\n",
    "        Breadth_first = 34\n",
    "        \n",
    "        \n",
    "        \n",
    "    def triangle(Height1,Height2, Breadth):\n",
    "        perimeter_of_triangle = Height1+Height2+Breadth\n",
    "        print(\"Height1:\",Height1)\n",
    "        print(\"Height2:\",Height2)\n",
    "        print(\"Breadth:\", Breadth)\n",
    "        print(\"Perimeter of triangle: \", perimeter_of_triangle )\n",
    "        \n",
    "        \n",
    "        \n",
    "        Height1=2\n",
    "        Height2=4\n",
    "        Breadth=4\n",
    "      \n",
    "\n",
    "                    \n",
    "\n",
    "            \n"
   ]
  },
  {
   "cell_type": "code",
   "execution_count": 13,
   "metadata": {},
   "outputs": [
    {
     "name": "stdout",
     "output_type": "stream",
     "text": [
      "Your Gender: Male\n",
      "Your Age: 45\n",
      "ELIGIBLE\n"
     ]
    },
    {
     "data": {
      "text/plain": [
       "'ELIGIBLE'"
      ]
     },
     "execution_count": 13,
     "metadata": {},
     "output_type": "execute_result"
    }
   ],
   "source": [
    "AllSnippets.age()"
   ]
  },
  {
   "cell_type": "code",
   "execution_count": 14,
   "metadata": {},
   "outputs": [
    {
     "name": "stdout",
     "output_type": "stream",
     "text": [
      "Height1: 2\n",
      "Height2: 4\n",
      "Breadth: 4\n",
      "Perimeter of triangle:  10\n"
     ]
    }
   ],
   "source": [
    "AllSnippets.triangle(2,4, 4)"
   ]
  },
  {
   "cell_type": "code",
   "execution_count": null,
   "metadata": {},
   "outputs": [],
   "source": []
  }
 ],
 "metadata": {
  "kernelspec": {
   "display_name": "Python 3",
   "language": "python",
   "name": "python3"
  },
  "language_info": {
   "codemirror_mode": {
    "name": "ipython",
    "version": 3
   },
   "file_extension": ".py",
   "mimetype": "text/x-python",
   "name": "python",
   "nbconvert_exporter": "python",
   "pygments_lexer": "ipython3",
   "version": "3.7.4"
  }
 },
 "nbformat": 4,
 "nbformat_minor": 2
}
